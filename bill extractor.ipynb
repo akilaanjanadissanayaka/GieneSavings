{
 "cells": [
  {
   "cell_type": "code",
   "execution_count": 1,
   "id": "20fee09b",
   "metadata": {
    "ExecuteTime": {
     "end_time": "2023-10-30T07:02:17.108550600Z",
     "start_time": "2023-10-30T07:02:16.740595500Z"
    }
   },
   "outputs": [],
   "source": [
    "import cv2\n",
    "import numpy as np\n",
    "import pytesseract\n",
    "import re\n",
    "import os\n",
    "pytesseract.pytesseract.tesseract_cmd = r'C:\\Program Files\\Tesseract-OCR\\tesseract.exe'\n"
   ]
  },
  {
   "cell_type": "code",
   "execution_count": 2,
   "id": "6c902718",
   "metadata": {
    "ExecuteTime": {
     "end_time": "2023-10-30T07:02:17.171015300Z",
     "start_time": "2023-10-30T07:02:17.124148300Z"
    }
   },
   "outputs": [],
   "source": [
    "# OpenCv function to get grayscale image\n",
    "def get_grayscale(image):                    \n",
    "    return cv2.cvtColor(image, cv2.COLOR_BGR2GRAY)  #This Function in OpenCV2 Provides to get GrayScale \n",
    "\n",
    "# noise removal in Given Image\n",
    "def remove_noise(image):\n",
    "    return cv2.medianBlur(image,5) #Removing Noice in the Picture is Way more Important \n",
    " \n",
    "#thresholding\n",
    "def thresholding(image):\n",
    "    return cv2.threshold(image, 0, 255, cv2.THRESH_BINARY + cv2.THRESH_OTSU)[1]\n",
    "\n",
    "#dilation\n",
    "def dilate(image):\n",
    "    kernel = np.ones((5,5),np.uint8)\n",
    "    return cv2.dilate(image, kernel, iterations = 1)\n",
    "    \n",
    "#erosion\n",
    "def erode(image):\n",
    "    kernel = np.ones((5,5),np.uint8)\n",
    "    return cv2.erode(image, kernel, iterations = 1)\n",
    "\n",
    "#opening - erosion followed by dilation\n",
    "def opening(image):\n",
    "    kernel = np.ones((5,5),np.uint8)\n",
    "    return cv2.morphologyEx(image, cv2.MORPH_OPEN, kernel)\n",
    "\n",
    "#canny edge detection\n",
    "def canny(image):\n",
    "    return cv2.Canny(image, 100, 200)\n",
    "\n",
    "#skew correction\n",
    "def deskew(image):\n",
    "    coords = np.column_stack(np.where(image > 0))\n",
    "    angle = cv2.minAreaRect(coords)[-1]\n",
    "    if angle < -45:\n",
    "        angle = -(90 + angle)\n",
    "    else:\n",
    "        angle = -angle\n",
    "    (h, w) = image.shape[:2]\n",
    "    center = (w // 2, h // 2)\n",
    "    M = cv2.getRotationMatrix2D(center, angle, 1.0)\n",
    "    rotation = cv2.warpAffine(image, M, (w, h), flags=cv2.INTER_CUBIC, borderMode=cv2.BORDER_REPLICATE)\n",
    "    return rotation\n",
    "\n",
    "#template matching\n",
    "#def match_template(image, template):\n",
    "  #return cv2.matchTemplate(image, template, cv2.TM_CCOEFF_NORMED) "
   ]
  },
  {
   "cell_type": "code",
   "execution_count": 3,
   "id": "0619d29e",
   "metadata": {
    "ExecuteTime": {
     "end_time": "2023-10-30T07:02:17.186642800Z",
     "start_time": "2023-10-30T07:02:17.139800100Z"
    }
   },
   "outputs": [],
   "source": [
    "\n",
    "def extract_text_from_image(image_path,filename):\n",
    "    image = cv2.imread(image_path)\n",
    "    # convert to grayscale\n",
    "    # gray = cv2.cvtColor(image, cv2.COLOR_BGR2GRAY)\n",
    "    # # gray = cv2.resize(gray, None, fx=.5, fy=.5)\n",
    "    \n",
    "    # # apply Gaussian blurring to smooth out the image\n",
    "    # # thresh = cv2.GaussianBlur(gray, (7,7), 0)\n",
    "    # thresh = cv2.medianBlur(gray,9)\n",
    "\n",
    "    # # apply Otsu's thresholding to detect text regions\n",
    "    # # thresh = cv2.adaptiveThreshold(blur, 255, cv2.ADAPTIVE_THRESH_GAUSSIAN_C, cv2.THRESH_BINARY, 5, 11)\n",
    "    # # thresh = cv2.threshold(blur, 0, 255, cv2.THRESH_BINARY + cv2.THRESH_OTSU)[1]\n",
    "\n",
    "    # # apply dilation and erosion to remove noise\n",
    "    # kernel = np.ones((2,2), np.uint8)\n",
    "    # # kernel1 = np.ones((2,2), np.uint8)\n",
    "    # thresh = cv2.dilate(thresh, kernel, iterations=1)\n",
    "    # thresh = cv2.erode(thresh, kernel, iterations=1)\n",
    "\n",
    "    gray = get_grayscale(image) #Converting Image to a GrayScale Image\n",
    "    # thresh = thresholding(gray) #Binary Thresholding Apply for the GrayScale Image\n",
    "    b=remove_noise(gray)\n",
    "    # openin = opening(b)\n",
    "    # cannyimg = canny(openin) #Canny Filtering used for the GrayScale Image\n",
    "\n",
    "    finali = np.hstack((gray,b)) #stacking images side-by-side\n",
    "    cv2.imwrite(\"./generated/\"+filename,finali)\n",
    "\n",
    "    # set tesseract OCR to recognize handwritten text\n",
    "    custom_oem_psm_config = r'-l eng+sin --psm 6'\n",
    "\n",
    "    # run tesseract OCR on the image\n",
    "    text = pytesseract.image_to_string(b,config=custom_oem_psm_config)\n",
    "    # print(text)\n",
    "    return text\n",
    "\n"
   ]
  },
  {
   "cell_type": "code",
   "execution_count": 4,
   "id": "b84e57b6",
   "metadata": {
    "ExecuteTime": {
     "end_time": "2023-10-30T07:02:17.217890100Z",
     "start_time": "2023-10-30T07:02:17.171015300Z"
    }
   },
   "outputs": [],
   "source": [
    "def extract_transaction_info(text):\n",
    "  # extract transaction information from the text\n",
    "  transaction_info = {}\n",
    "\n",
    "  # extract date\n",
    "  date_pattern = r'(\\d{2}[/,-]\\d{2}[/,-]\\d{4})|(\\d{2}[/,-]\\d{2}[/,-]\\d{2})'\n",
    "\n",
    "  date_match = re.search(date_pattern, text,re.IGNORECASE)\n",
    "  if date_match:\n",
    "      for group in date_match.groups():\n",
    "          if group:\n",
    "              transaction_info[\"Date\"] = group\n",
    "              break\n",
    "\n",
    "  # extract total amount\n",
    "  total_pattern = r\"(net TOTAL|Grand Total|OTAL|net amount|amount|එකතභව)\\D*(\\d+[.,]\\d+)\"\n",
    "#   total_pattern = r'NET TOTAL (\\d+\\.\\d+)'\n",
    "  total_match = re.search(total_pattern, text,re.IGNORECASE)\n",
    "  if total_match.group(1):\n",
    "      print(total_match.group(1))\n",
    "  if total_match.group(2):\n",
    "      print(total_match.group(2))\n",
    "      transaction_info[\"Amount\"] = total_match.group(2)\n",
    "\n",
    "      \n",
    "  return transaction_info\n"
   ]
  },
  {
   "cell_type": "code",
   "execution_count": 59,
   "outputs": [
    {
     "name": "stdout",
     "output_type": "stream",
     "text": [
      "Matched Line: No 2176-337 /82 Cashier: 2G00.PNS\n"
     ]
    }
   ],
   "source": [
    "import re\n",
    "\n",
    "text1 = \"\"\"\n",
    "oe “\n",
    "ye\n",
    "Porera And Sons\n",
    "‘162/13, NEW KANDY\n",
    "OAL WELIVE. A, MALABF\n",
    "el O11, 41137; Gigen 6AM lose 9PM\n",
    "Order TaneAway  Customici.\n",
    "Bill No 2176-337 /82 Cashier: 2G00.PNS\n",
    "[tem Description\n",
    "— Oty U/Price = % ~~ Discount Amount\n",
    "Pol Rotty\n",
    "1.0060 65.00 8% 0.00 35.00\n",
    "CB -Dhall VWadei\n",
    "melee) 90.00 6% 0 OO 903.00\n",
    "| Fish Chine. Rol!\n",
    "1.000 160\") OM 0.60 166.00\n",
    "tame June\n",
    "~~ 2.00. 146.00 O% 0.00 140.00\n",
    "Net Total: 475.00\n",
    "Cash : ~ 500.00\n",
    "Cash Balance : 25.00\n",
    "1 24503 : 72-176-01 :\n",
    "pi Copy) ;\n",
    "' 7\n",
    "com\n",
    "\"\"\"\n",
    "text2= \"\"\"\n",
    "Se\n",
    "al eras Y\n",
    "CARDILLS FOO CITY\n",
    "Nalkloatbke O2\n",
    " O14-2413571\n",
    "ee/ 10/202 17sb4:29 HADUWANTHT Nos 371\n",
    "NO ITEM ary PRICE AMOUNT\n",
    "1 WUNCHEE POTATO CRACKER  -\n",
    "SCIQGii 1.060 230.00 230,00\n",
    "Net Total 740,00\n",
    "CASH 1,000.00\n",
    "‘Balance 770.00\n",
    "“aa :\n",
    "Time End 17254235\n",
    "eecnenne na THPORTANT NOTICE-~-~-------- :\n",
    "_ 1 disc ar Ys return\n",
    "7 days to\n",
    "Sh . |\n",
    "a\n",
    "ee\n",
    "|\n",
    "ae\n",
    "\"\"\"\n",
    "import re\n",
    "\n",
    "import re\n",
    "\n",
    "\n",
    "\n",
    "pattern = r'\\b(?:Rs|No|Price|Item|Qty|Amount|Discount|Product|Description)\\b.*$'\n",
    "\n",
    "match = re.search(pattern, text1, re.IGNORECASE | re.MULTILINE)\n",
    "\n",
    "if match:\n",
    "    print(\"Matched Line:\", match.group())\n",
    "else:\n",
    "    print(\"No match found.\")\n",
    "\n",
    "                                          \n",
    "                                          \n"
   ],
   "metadata": {
    "collapsed": false,
    "ExecuteTime": {
     "end_time": "2023-10-30T12:33:18.687717Z",
     "start_time": "2023-10-30T12:33:18.672086900Z"
    }
   },
   "id": "84ad8acb894eaf8"
  },
  {
   "cell_type": "code",
   "execution_count": 118,
   "outputs": [
    {
     "name": "stdout",
     "output_type": "stream",
     "text": [
      "matches_length 1\n",
      "indessss  7\n",
      "lines_after_detected ['1 WUNCHEE POTATO CRACKER  -', 'SCIQGII 1.060 230.00 230,00']\n",
      "first_line 1 WUNCHEE POTATO CRACKER  -\n",
      "Category: Category One\n"
     ]
    }
   ],
   "source": [
    "import re\n",
    "\n",
    "def categorize_lines(text):\n",
    "    # Convert the text to uppercase\n",
    "    text = text.upper()\n",
    "\n",
    "    # Regular expression pattern to detect the first line\n",
    "    pattern = r'.*?\\b(?:RS|PRICE|ITEM|QTY|AMOUNT|DISCOUNT|PRODUCT|DESCRIPTION)\\b.*?$'\n",
    "    \n",
    "    \n",
    "    # Find all lines matching the specified pattern\n",
    "    matches = re.findall(pattern, text, re.IGNORECASE | re.MULTILINE)\n",
    "    \n",
    "    \n",
    "    \n",
    "    \n",
    "    # Find the first line matching the specified pattern\n",
    "    # first_line_match = re.search(pattern, text, re.IGNORECASE | re.MULTILINE)\n",
    "    # first_line_match = re.search(pattern, text, re.MULTILINE)\n",
    "    # \n",
    "    # print(\"first_line_match \",first_line_match )\n",
    "    # Check if the text matches the pattern\n",
    "    if matches:\n",
    "        \n",
    "        # Store indices of the first two matches\n",
    "        indices = []\n",
    "        for match in matches[:2]:\n",
    "            lines = text.split('\\n')\n",
    "            index = lines.index(match.strip())\n",
    "            indices.append(index)\n",
    "        \n",
    "        matches_length = len(matches)\n",
    "        print(\"matches_length\",matches_length)\n",
    "        \n",
    "        \n",
    "        if(len(matches)>1):\n",
    "            print(\"Indices of the first two matching lines:\", indices[0],indices[1])\n",
    "            if ((indices[0]+1) == indices[1]):\n",
    "                index=indices[1]\n",
    "            else:\n",
    "                index=indices[0]\n",
    "        else:\n",
    "            index=indices[0]\n",
    "        \n",
    "        \n",
    "        print(\"indessss \",index)\n",
    "        \n",
    "        \n",
    "        lines = text.split('\\n')\n",
    "        # index = lines.index(first_line_match.group().strip())  # Get the index of the detected line\n",
    "        lines_after_detected = lines[index+1:index+3]  # Get the two lines immediately after the detected line\n",
    "        print(\"lines_after_detected\",lines_after_detected)\n",
    "        # lines_after_detected ['1 WUNCHEE POTATO CRACKER  -', 'SCIQGII 1.060 230.00 230,00']\n",
    "        # Check if the first line of the lines_after_detected fits Category One criteria\n",
    "        first_line = lines_after_detected[0].strip()\n",
    "        print(\"first_line\",first_line)\n",
    "        if re.match(r'^[0-9A-Z/.,\\'\\s;:-][A-Z/.,\\'\\s;:-]+$', first_line) :\n",
    "            return \"Category One\"\n",
    "        else:\n",
    "            return \"Category Two\"\n",
    "    else:\n",
    "        return \"No match found.\"\n",
    "\n",
    "# Example usage:\n",
    "text2 = \"\"\"\n",
    "oe “\n",
    "ye\n",
    "Porera And Sons\n",
    "‘162/13, NEW KANDY\n",
    "OAL WELIVE. A, MALABF\n",
    "el O11, 41137; Gigen 6AM lose 9PM\n",
    "Order TaneAway  Customici.\n",
    "Bill No 2176-337 /82 Cashier: 2G00.PNS\n",
    "[tem Description\n",
    "— Oty U/Price = % ~~ Discount Amount\n",
    "Pol Rotty\n",
    "1.0060 65.00 8% 0.00 35.00\n",
    "CB -Dhall VWadei\n",
    "melee) 90.00 6% 0 OO 903.00\n",
    "| Fish Chine. Rol!\n",
    "1.000 160\") OM 0.60 166.00\n",
    "tame June\n",
    "~~ 2.00. 146.00 O% 0.00 140.00\n",
    "Net Total: 475.00\n",
    "Cash : ~ 500.00\n",
    "Cash Balance : 25.00\n",
    "1 24503 : 72-176-01 :\n",
    "pi Copy) ;\n",
    "' 7\n",
    "com\n",
    "\"\"\"\n",
    "text1=\"\"\"\n",
    "Se\n",
    "al eras Y\n",
    "CARDILLS FOO CITY\n",
    "Nalkloatbke O2\n",
    " O14-2413571\n",
    "ee/ 10/202 17sb4:29 HADUWANTHT Nos 371\n",
    "NO ITEM ary PRICE AMOUNT\n",
    "1 WUNCHEE POTATO CRACKER  -\n",
    "SCIQGii 1.060 230.00 230,00\n",
    "Net Total 740,00\n",
    "CASH 1,000.00\n",
    "‘Balance 770.00\n",
    "“aa :\n",
    "Time End 17254235\n",
    "eecnenne na THPORTANT NOTICE-~-~-------- :\n",
    "_ 1 disc ar Ys return\n",
    "7 days to\n",
    "Sh . |\n",
    "a\n",
    "ee\n",
    "|\n",
    "ae\"\"\"\n",
    "\n",
    "category = categorize_lines(text1)\n",
    "\n",
    "print(\"Category:\", category)\n"
   ],
   "metadata": {
    "collapsed": false,
    "ExecuteTime": {
     "end_time": "2023-10-30T14:00:01.903838Z",
     "start_time": "2023-10-30T14:00:01.856960100Z"
    }
   },
   "id": "f439f9be71bd217a"
  },
  {
   "cell_type": "code",
   "execution_count": 104,
   "outputs": [
    {
     "name": "stdout",
     "output_type": "stream",
     "text": [
      "index  9\n",
      "full_line  [tem Description\n",
      "lines_after_detected ['— Oty U/Price = % ~~ Discount Amount', 'Pol Rotty']\n"
     ]
    }
   ],
   "source": [
    "# Regular expression pattern to detect the first line\n",
    "pattern = r'.*?\\b(?:RS|PRICE|ITEM|QTY|AMOUNT|DISCOUNT|PRODUCT|DESCRIPTION)\\b.*$'\n",
    "\n",
    "text = \"\"\"\n",
    "oe “\n",
    "ye\n",
    "Porera And Sons\n",
    "‘162/13, NEW KANDY\n",
    "OAL WELIVE. A, MALABF\n",
    "el O11, 41137; Gigen 6AM lose 9PM\n",
    "Order TaneAway  Customici.\n",
    "Bill No 2176-337 /82 Cashier: 2G00.PNS\n",
    "[tem Description\n",
    "— Oty U/Price = % ~~ Discount Amount\n",
    "Pol Rotty\n",
    "1.0060 65.00 8% 0.00 35.00\n",
    "CB -Dhall VWadei\n",
    "melee) 90.00 6% 0 OO 903.00\n",
    "| Fish Chine. Rol!\n",
    "1.000 160\") OM 0.60 166.00\n",
    "tame June\n",
    "~~ 2.00. 146.00 O% 0.00 140.00\n",
    "Net Total: 475.00\n",
    "Cash : ~ 500.00\n",
    "Cash Balance : 25.00\n",
    "1 24503 : 72-176-01 :\n",
    "pi Copy) ;\n",
    "' 7\n",
    "com\n",
    "\"\"\"\n",
    "# Find the first line matching the specified pattern\n",
    "first_line_match = re.search(pattern, text, re.IGNORECASE | re.MULTILINE)\n",
    "\n",
    "# Get the full line that matches the pattern\n",
    "full_line = first_line_match.group()\n",
    "lines = text.split('\\n')\n",
    "index = lines.index(first_line_match.group().strip())  # Get the index of the detected line\n",
    "lines_after_detected = lines[index+1:index+3]  # Get the two lines immediately after the detected line\n",
    "        \n",
    "print(\"index \", index) \n",
    "print(\"full_line \", full_line) \n",
    "print(\"lines_after_detected\",lines_after_detected)\n",
    "\n"
   ],
   "metadata": {
    "collapsed": false,
    "ExecuteTime": {
     "end_time": "2023-10-30T13:30:56.277475800Z",
     "start_time": "2023-10-30T13:30:56.058727700Z"
    }
   },
   "id": "8ffa5754bbf59ade"
  },
  {
   "cell_type": "code",
   "execution_count": 106,
   "outputs": [
    {
     "name": "stdout",
     "output_type": "stream",
     "text": [
      "['[tem Description', '— Oty U/Price = % ~~ Discount Amount']\n",
      "Matching lines:\n",
      "Match 1: [tem Description\n",
      "Lines after match 1: ['— Oty U/Price = % ~~ Discount Amount', 'Pol Rotty']\n",
      "Match 2: — Oty U/Price = % ~~ Discount Amount\n",
      "Lines after match 2: ['Pol Rotty', '1.0060 65.00 8% 0.00 35.00']\n"
     ]
    }
   ],
   "source": [
    "import re\n",
    "\n",
    "pattern = r'.*?\\b(?:RS|PRICE|ITEM|QTY|AMOUNT|DISCOUNT|PRODUCT|DESCRIPTION)\\b.*?$'\n",
    "text = \"\"\"\n",
    "oe “\n",
    "ye\n",
    "Porera And Sons\n",
    "‘162/13, NEW KANDY\n",
    "OAL WELIVE. A, MALABF\n",
    "el O11, 41137; Gigen 6AM lose 9PM\n",
    "Order TaneAway  Customici.\n",
    "Bill No 2176-337 /82 Cashier: 2G00.PNS\n",
    "[tem Description\n",
    "— Oty U/Price = % ~~ Discount Amount\n",
    "Pol Rotty\n",
    "1.0060 65.00 8% 0.00 35.00\n",
    "CB -Dhall VWadei\n",
    "melee) 90.00 6% 0 OO 903.00\n",
    "| Fish Chine. Rol!\n",
    "1.000 160\") OM 0.60 166.00\n",
    "tame June\n",
    "~~ 2.00. 146.00 O% 0.00 140.00\n",
    "Net Total: 475.00\n",
    "Cash : ~ 500.00\n",
    "Cash Balance : 25.00\n",
    "1 24503 : 72-176-01 :\n",
    "pi Copy) ;\n",
    "' 7\n",
    "com\n",
    "\"\"\"\n",
    "\n",
    "# Find all lines matching the specified pattern\n",
    "matches = re.findall(pattern, text, re.IGNORECASE | re.MULTILINE)\n",
    "print(matches)\n",
    "# Iterate through the matches and get lines immediately after each match\n",
    "lines_after_matches = []\n",
    "for match in matches:\n",
    "    lines = text.split('\\n')\n",
    "    index = lines.index(match.strip())\n",
    "    lines_after_match = lines[index + 1: index + 3]\n",
    "    lines_after_matches.append(lines_after_match)\n",
    "\n",
    "print(\"Matching lines:\")\n",
    "for i, match in enumerate(matches):\n",
    "    print(f\"Match {i + 1}: {match}\")\n",
    "    print(f\"Lines after match {i + 1}: {lines_after_matches[i]}\")\n"
   ],
   "metadata": {
    "collapsed": false,
    "ExecuteTime": {
     "end_time": "2023-10-30T13:34:18.398011500Z",
     "start_time": "2023-10-30T13:34:18.315013600Z"
    }
   },
   "id": "54128d59abcbee30"
  },
  {
   "cell_type": "code",
   "execution_count": 107,
   "outputs": [
    {
     "name": "stdout",
     "output_type": "stream",
     "text": [
      "Indices of the first two matching lines: [9, 10]\n"
     ]
    }
   ],
   "source": [
    "import re\n",
    "\n",
    "pattern = r'.*?\\b(?:RS|PRICE|ITEM|QTY|AMOUNT|DISCOUNT|PRODUCT|DESCRIPTION)\\b.*?$'\n",
    "text = \"\"\"\n",
    "oe “\n",
    "ye\n",
    "Porera And Sons\n",
    "‘162/13, NEW KANDY\n",
    "OAL WELIVE. A, MALABF\n",
    "el O11, 41137; Gigen 6AM lose 9PM\n",
    "Order TaneAway  Customici.\n",
    "Bill No 2176-337 /82 Cashier: 2G00.PNS\n",
    "[tem Description\n",
    "— Oty U/Price = % ~~ Discount Amount\n",
    "Pol Rotty\n",
    "1.0060 65.00 8% 0.00 35.00\n",
    "CB -Dhall VWadei\n",
    "melee) 90.00 6% 0 OO 903.00\n",
    "| Fish Chine. Rol!\n",
    "1.000 160\") OM 0.60 166.00\n",
    "tame June\n",
    "~~ 2.00. 146.00 O% 0.00 140.00\n",
    "Net Total: 475.00\n",
    "Cash : ~ 500.00\n",
    "Cash Balance : 25.00\n",
    "1 24503 : 72-176-01 :\n",
    "pi Copy) ;\n",
    "' 7\n",
    "com\n",
    "\"\"\"\n",
    "\n",
    "# Find all lines matching the specified pattern\n",
    "matches = re.findall(pattern, text, re.IGNORECASE | re.MULTILINE)\n",
    "\n",
    "# Store indices of the first two matches\n",
    "indices = []\n",
    "for match in matches[:2]:\n",
    "    lines = text.split('\\n')\n",
    "    index = lines.index(match.strip())\n",
    "    indices.append(index)\n",
    "\n",
    "print(\"Indices of the first two matching lines:\", indices)\n"
   ],
   "metadata": {
    "collapsed": false,
    "ExecuteTime": {
     "end_time": "2023-10-30T13:35:56.848812300Z",
     "start_time": "2023-10-30T13:35:56.770604700Z"
    }
   },
   "id": "c6844309664908"
  },
  {
   "cell_type": "code",
   "execution_count": 165,
   "outputs": [
    {
     "name": "stdout",
     "output_type": "stream",
     "text": [
      "Matched: WUNCHEE POTATO CRACKER  - \n",
      "Matched: 6222 JoVEES FACE WASH TEA TREE ML - \n"
     ]
    }
   ],
   "source": [
    "import re\n",
    "\n",
    "# Regular expression pattern\n",
    "pattern = r'^[0-9A-Z/.,\\'\\s;:-]{4}[A-Z/.,\\'\\s;:-]+$'\n",
    "\n",
    "# Example lines to match\n",
    "\n",
    "\n",
    "\n",
    "lines = [\n",
    "    \"WUNCHEE POTATO CRACKER  - \",\n",
    "    \"6222 JoVEES FACE WASH TEA TREE ML - \"\n",
    "]\n",
    "\n",
    "for line in lines:\n",
    "    if re.match(pattern, line, re.IGNORECASE):\n",
    "        print(f\"Matched: {line}\")\n",
    "    else:\n",
    "        print(f\"Not Matched: {line}\")\n"
   ],
   "metadata": {
    "collapsed": false,
    "ExecuteTime": {
     "end_time": "2023-10-30T15:35:08.410234200Z",
     "start_time": "2023-10-30T15:35:08.394587100Z"
    }
   },
   "id": "46d90f3bc8ad9e9a"
  },
  {
   "cell_type": "code",
   "execution_count": 162,
   "outputs": [
    {
     "name": "stdout",
     "output_type": "stream",
     "text": [
      "\n",
      "y N).227, Anagarika Dnarmapale Mw,Nupe,, Matara U'70 108444 / 0112 303 500 / Store Code: SMMR 31-10-2022 12:24:54 €:116296 NP R:2022505 -n item Price Qty Amount | 6117:J0VEES FACE WASH TEA TREE  1,685.00 \n"
     ]
    }
   ],
   "source": [
    "import re\n",
    "\n",
    "text = \"\"\"\n",
    "y N).227, Anagarika Dnarmapale Mw,Nupe,, Matara U'70 108444 / 0112 303 500 / Store Code: SMMR 31-10-2022 12:24:54 €:116296 NP R:2022505 -n item Price Qty Amount | 6117:J0VEES FACE WASH TEA TREE 120ML 1,685.00 \n",
    "\"\"\"\n",
    "\n",
    "# Regular expression pattern to match words containing \"ML\" or \"KG\"\n",
    "pattern = r'\\b\\w+(?:ML|KG)\\b'\n",
    "\n",
    "# Remove words containing \"ML\" or \"KG\"\n",
    "result = re.sub(pattern, '', text)\n",
    "\n",
    "print(result)\n"
   ],
   "metadata": {
    "collapsed": false,
    "ExecuteTime": {
     "end_time": "2023-10-30T15:23:05.830043800Z",
     "start_time": "2023-10-30T15:23:05.751832Z"
    }
   },
   "id": "7a92ccac79c13a7"
  },
  {
   "cell_type": "code",
   "execution_count": 174,
   "outputs": [
    {
     "name": "stdout",
     "output_type": "stream",
     "text": [
      "Matched: WUNCHEE POTATO CRACKER  - \n",
      "Matched: YELLOW RICE & CURRY  HICKEN (M) \n"
     ]
    }
   ],
   "source": [
    "import re\n",
    "\n",
    "sentence = \"| 6117:JoVEES FACE WASH TEA TREE\"\n",
    "\n",
    "# Regular expression pattern to match the first word if it starts with a symbol\n",
    "pattern = r'^[^\\w]+'\n",
    "\n",
    "# Remove the first word if it starts with a symbol\n",
    "result = re.sub(pattern, '', sentence).strip()\n",
    "# Regular expression pattern\n",
    "pattern = r'^[0-9A-Z/.,\\'\\s;:-]{4}[A-Z/.,\\'\\s;:()&-]+$'\n",
    "# print(result)\n",
    "lines = [\n",
    "    \"WUNCHEE POTATO CRACKER  - \",\n",
    "    \"YELLOW RICE & CURRY  HICKEN (M) \",\n",
    "]\n",
    "\n",
    "for line in lines:\n",
    "    if re.match(pattern, line, re.IGNORECASE):\n",
    "        print(f\"Matched: {line}\")\n",
    "    else:\n",
    "        print(f\"Not Matched: {line}\")\n"
   ],
   "metadata": {
    "collapsed": false,
    "ExecuteTime": {
     "end_time": "2023-10-30T16:00:32.157407500Z",
     "start_time": "2023-10-30T16:00:32.126149700Z"
    }
   },
   "id": "c5965646b6c38a46"
  },
  {
   "cell_type": "code",
   "execution_count": 184,
   "outputs": [
    {
     "name": "stdout",
     "output_type": "stream",
     "text": [
      "Indexes of lines containing specified words: [10, 11, 12]\n"
     ]
    }
   ],
   "source": [
    "import re\n",
    "\n",
    "text = \"\"\"\n",
    "Se\n",
    "al eras Y\n",
    "CARDILLS FOO CITY\n",
    "Nalkloatbke O2\n",
    " O14-2413571\n",
    "ee/ 10/202 17sb4:29 HADUWANTHT Nos 371\n",
    "NO ITEM ary PRICE AMOUNT\n",
    "1 WUNCHEE POTATO CRACKER  -\n",
    "SCIQGii 1.060 230.00 230,00\n",
    "Net Total 740,00\n",
    "CASH 1,000.00\n",
    "‘Balance 770.00\n",
    "“aa :\n",
    "Time End 17254235\n",
    "eecnenne na THPORTANT NOTICE-~-~-------- :\n",
    "_ 1 disc ar Ys return\n",
    "7 days to\n",
    "Sh . |\n",
    "a\n",
    "ee\n",
    "\"\"\"\n",
    "\n",
    "# List of words to check for\n",
    "words_to_check = [\"Net Total\", \"CASH\", \"Balance\"]\n",
    "\n",
    "# Regular expression pattern to match lines containing specified words\n",
    "pattern = r'\\b(?:' + '|'.join(re.escape(word) for word in words_to_check) + r')\\b'\n",
    "\n",
    "# Split the text into lines and find the indexes of lines matching the pattern\n",
    "lines = text.splitlines()\n",
    "matching_line_indexes = [index for index, line in enumerate(lines) if re.search(pattern, line)]\n",
    "\n",
    "print(\"Indexes of lines containing specified words:\", matching_line_indexes)\n"
   ],
   "metadata": {
    "collapsed": false,
    "ExecuteTime": {
     "end_time": "2023-10-30T17:05:43.518167600Z",
     "start_time": "2023-10-30T17:05:43.455665900Z"
    }
   },
   "id": "f46e0033f7e5ae6c"
  },
  {
   "cell_type": "code",
   "execution_count": 189,
   "outputs": [
    {
     "name": "stdout",
     "output_type": "stream",
     "text": [
      "\n",
      "Se\n",
      "al eras Y\n",
      "CARDILLS FOO CITY\n",
      "Nalkloatbke O2\n",
      " O14 2413571\n",
      "ee/ 10/202 17sb4 29 HADUWANTHT Nos 371\n",
      "NO ITEM ary PRICE AMOUNT\n",
      "1 WUNCHEE POTATO CRACKER   \n",
      "SCIQGii 1.060 230.00 230,00\n",
      "Net Total 740,00\n",
      "CASH 1,000.00\n",
      " Balance 770.00\n",
      " aa  \n",
      "Time End 17254235\n",
      "eecnenne na THPORTANT NOTICE              \n",
      "  1 disc ar Ys return\n",
      "7 days to\n",
      "Sh .  \n",
      "a\n",
      "ee\n"
     ]
    }
   ],
   "source": [
    "text = \"\"\"\n",
    "Se\n",
    "al eras Y\n",
    "CARDILLS FOO CITY\n",
    "Nalkloatbke O2\n",
    " O14-2413571\n",
    "ee/ 10/202 17sb4:29 HADUWANTHT Nos 371\n",
    "NO ITEM ary PRICE AMOUNT\n",
    "1 WUNCHEE POTATO CRACKER  -\n",
    "SCIQGii 1.060 230.00 230,00\n",
    "Net Total 740,00\n",
    "CASH 1,000.00\n",
    "‘Balance 770.00\n",
    "“aa :\n",
    "Time End 17254235\n",
    "eecnenne na THPORTANT NOTICE-~-~-------- :\n",
    "_ 1 disc ar Ys return\n",
    "7 days to\n",
    "Sh . |\n",
    "a\n",
    "ee\n",
    "\"\"\"\n",
    "\n",
    "# Define a translation table to replace specified characters with spaces\n",
    "translation_table = str.maketrans({\"'\": ' ', '\"': ' ', '`': ' ', '~': ' ',\"_\":\" \",\"-\":\" \",\":\":\" \", '|': ' ', '\\\\': ' ', '‘': ' ', '“': ' ', '–': ' '})\n",
    "\n",
    "# Use translate() method to replace characters with spaces\n",
    "cleaned_text = text.translate(translation_table)\n",
    "\n",
    "print(cleaned_text)\n"
   ],
   "metadata": {
    "collapsed": false,
    "ExecuteTime": {
     "end_time": "2023-10-30T17:41:37.889840800Z",
     "start_time": "2023-10-30T17:41:37.842967700Z"
    }
   },
   "id": "b44589f7a184e01a"
  },
  {
   "cell_type": "code",
   "execution_count": 169,
   "outputs": [
    {
     "name": "stdout",
     "output_type": "stream",
     "text": [
      "Hello, @123456789! This is a test sentence with @ and other digits.\n"
     ]
    }
   ],
   "source": [
    "sentence = \"Hello, 0123456789! This is a test sentence with 0 and other digits.\"\n",
    "\n",
    "# Replace all occurrences of \"0\" with \"O\"\n",
    "modified_sentence = sentence.replace(\"0\", \"@\")\n",
    "\n",
    "print(modified_sentence)\n"
   ],
   "metadata": {
    "collapsed": false,
    "ExecuteTime": {
     "end_time": "2023-10-30T15:42:34.945579700Z",
     "start_time": "2023-10-30T15:42:34.914320700Z"
    }
   },
   "id": "3578f84af585046c"
  },
  {
   "cell_type": "code",
   "execution_count": 135,
   "outputs": [
    {
     "name": "stdout",
     "output_type": "stream",
     "text": [
      "'123 ValidWord SecondWord ThirdWord' does not match the pattern.\n",
      "'Invalid@Word SecondWord ThirdWord' does not match the pattern.\n",
      "'ValidWord SecondWord With/Symbols;' does not match the pattern.\n",
      "'Word123 Another-Word Word/With/Symbols;' does not match the pattern.\n",
      "'ValidWord SecondWord ThirdWord-With/Symbols;' does not match the pattern.\n"
     ]
    }
   ],
   "source": [
    "import re\n",
    "\n",
    "pattern = r'^[a-zA-Z0-9]+([a-zA-Z]+)*$'\n",
    "\n",
    "# Test strings\n",
    "sentences = [\n",
    "    \"123 ValidWord SecondWord ThirdWord\",\n",
    "    \"Invalid@Word SecondWord ThirdWord\",\n",
    "    \"ValidWord SecondWord With/Symbols;\",\n",
    "    \"Word123 Another-Word Word/With/Symbols;\",\n",
    "    \"ValidWord SecondWord ThirdWord-With/Symbols;\"\n",
    "]\n",
    "\n",
    "for sentence in sentences:\n",
    "    words = sentence.split()\n",
    "    if re.match(pattern, sentence) and all(re.match(r'^[A-Z/.,\\'\\s;:-]+$', word) for word in words[1:]):\n",
    "        print(f\"'{sentence}' matches the pattern.\")\n",
    "    else:\n",
    "        print(f\"'{sentence}' does not match the pattern.\")\n"
   ],
   "metadata": {
    "collapsed": false,
    "ExecuteTime": {
     "end_time": "2023-10-30T15:08:20.941660300Z",
     "start_time": "2023-10-30T15:08:20.894805600Z"
    }
   },
   "id": "7511c49883306e0f"
  },
  {
   "cell_type": "code",
   "execution_count": 56,
   "id": "76a8791b",
   "metadata": {
    "ExecuteTime": {
     "end_time": "2023-10-30T12:23:58.407380800Z",
     "start_time": "2023-10-30T12:23:55.653066200Z"
    }
   },
   "outputs": [
    {
     "name": "stdout",
     "output_type": "stream",
     "text": [
      "first_line 1 WUNCHEE POTATO CRACKER  -\n",
      "Category: Category One\n"
     ]
    }
   ],
   "source": [
    "folder = \"./bills/\"\n",
    "\n",
    "filename='20221022_Food.jpg'\n",
    "extext = extract_text_from_image(folder+filename,filename)\n",
    "# print(extext)\n",
    "\n",
    "category = categorize_lines(extext)\n",
    "\n",
    "print(\"Category:\", category)"
   ]
  },
  {
   "cell_type": "code",
   "execution_count": null,
   "outputs": [],
   "source": [
    "extract_transaction_info(extext)"
   ],
   "metadata": {
    "collapsed": false
   },
   "id": "b98c9de5549f6d43"
  },
  {
   "cell_type": "code",
   "execution_count": 6,
   "id": "d34d680b",
   "metadata": {
    "ExecuteTime": {
     "end_time": "2023-10-30T07:02:47.945232500Z",
     "start_time": "2023-10-30T07:02:44.715187200Z"
    }
   },
   "outputs": [
    {
     "name": "stdout",
     "output_type": "stream",
     "text": [
      "20220821_Food.jpg\n"
     ]
    },
    {
     "ename": "FileNotFoundError",
     "evalue": "[Errno 2] No such file or directory: './generated/20220821_Food.txt'",
     "output_type": "error",
     "traceback": [
      "\u001B[1;31m---------------------------------------------------------------------------\u001B[0m",
      "\u001B[1;31mFileNotFoundError\u001B[0m                         Traceback (most recent call last)",
      "Cell \u001B[1;32mIn[6], line 7\u001B[0m\n\u001B[0;32m      5\u001B[0m extext \u001B[38;5;241m=\u001B[39m extract_text_from_image(folder\u001B[38;5;241m+\u001B[39mfilename,filename)\n\u001B[0;32m      6\u001B[0m x\u001B[38;5;241m=\u001B[39mfilename\u001B[38;5;241m.\u001B[39msplit(\u001B[38;5;124m'\u001B[39m\u001B[38;5;124m.\u001B[39m\u001B[38;5;124m'\u001B[39m)\n\u001B[1;32m----> 7\u001B[0m f \u001B[38;5;241m=\u001B[39m \u001B[38;5;28;43mopen\u001B[39;49m\u001B[43m(\u001B[49m\u001B[38;5;124;43m'\u001B[39;49m\u001B[38;5;124;43m./generated/\u001B[39;49m\u001B[38;5;124;43m'\u001B[39;49m\u001B[38;5;241;43m+\u001B[39;49m\u001B[43mx\u001B[49m\u001B[43m[\u001B[49m\u001B[38;5;241;43m0\u001B[39;49m\u001B[43m]\u001B[49m\u001B[38;5;241;43m+\u001B[39;49m\u001B[38;5;124;43m'\u001B[39;49m\u001B[38;5;124;43m.txt\u001B[39;49m\u001B[38;5;124;43m'\u001B[39;49m\u001B[43m,\u001B[49m\u001B[43m \u001B[49m\u001B[38;5;124;43m\"\u001B[39;49m\u001B[38;5;124;43mw\u001B[39;49m\u001B[38;5;124;43m\"\u001B[39;49m\u001B[43m,\u001B[49m\u001B[43mencoding\u001B[49m\u001B[38;5;241;43m=\u001B[39;49m\u001B[38;5;124;43m\"\u001B[39;49m\u001B[38;5;124;43mutf-8\u001B[39;49m\u001B[38;5;124;43m\"\u001B[39;49m\u001B[43m)\u001B[49m\n\u001B[0;32m      8\u001B[0m f\u001B[38;5;241m.\u001B[39mwrite(extext)\n\u001B[0;32m      9\u001B[0m f\u001B[38;5;241m.\u001B[39mclose()\n",
      "File \u001B[1;32m~\\Desktop\\Billcategorize\\venv\\lib\\site-packages\\IPython\\core\\interactiveshell.py:286\u001B[0m, in \u001B[0;36m_modified_open\u001B[1;34m(file, *args, **kwargs)\u001B[0m\n\u001B[0;32m    279\u001B[0m \u001B[38;5;28;01mif\u001B[39;00m file \u001B[38;5;129;01min\u001B[39;00m {\u001B[38;5;241m0\u001B[39m, \u001B[38;5;241m1\u001B[39m, \u001B[38;5;241m2\u001B[39m}:\n\u001B[0;32m    280\u001B[0m     \u001B[38;5;28;01mraise\u001B[39;00m \u001B[38;5;167;01mValueError\u001B[39;00m(\n\u001B[0;32m    281\u001B[0m         \u001B[38;5;124mf\u001B[39m\u001B[38;5;124m\"\u001B[39m\u001B[38;5;124mIPython won\u001B[39m\u001B[38;5;124m'\u001B[39m\u001B[38;5;124mt let you open fd=\u001B[39m\u001B[38;5;132;01m{\u001B[39;00mfile\u001B[38;5;132;01m}\u001B[39;00m\u001B[38;5;124m by default \u001B[39m\u001B[38;5;124m\"\u001B[39m\n\u001B[0;32m    282\u001B[0m         \u001B[38;5;124m\"\u001B[39m\u001B[38;5;124mas it is likely to crash IPython. If you know what you are doing, \u001B[39m\u001B[38;5;124m\"\u001B[39m\n\u001B[0;32m    283\u001B[0m         \u001B[38;5;124m\"\u001B[39m\u001B[38;5;124myou can use builtins\u001B[39m\u001B[38;5;124m'\u001B[39m\u001B[38;5;124m open.\u001B[39m\u001B[38;5;124m\"\u001B[39m\n\u001B[0;32m    284\u001B[0m     )\n\u001B[1;32m--> 286\u001B[0m \u001B[38;5;28;01mreturn\u001B[39;00m io_open(file, \u001B[38;5;241m*\u001B[39margs, \u001B[38;5;241m*\u001B[39m\u001B[38;5;241m*\u001B[39mkwargs)\n",
      "\u001B[1;31mFileNotFoundError\u001B[0m: [Errno 2] No such file or directory: './generated/20220821_Food.txt'"
     ]
    }
   ],
   "source": [
    "folder = \"./bills/\"\n",
    "\n",
    "for filename in os.listdir(folder):\n",
    "    print(filename)\n",
    "    extext = extract_text_from_image(folder+filename,filename)\n",
    "    x=filename.split('.')\n",
    "    f = open('./generated/'+x[0]+'.txt', \"w\",encoding=\"utf-8\")\n",
    "    f.write(extext)\n",
    "    f.close()\n"
   ]
  },
  {
   "cell_type": "code",
   "execution_count": null,
   "id": "70a1b2ae",
   "metadata": {},
   "outputs": [],
   "source": [
    "import matplotlib.pyplot as plt\n",
    "img = cv2.imread('./bills/20220821_Food.jpg')\n",
    "# img = get_grayscale(img)\n",
    "plt.imshow(img)"
   ]
  },
  {
   "cell_type": "code",
   "execution_count": null,
   "id": "9aeed00e",
   "metadata": {},
   "outputs": [],
   "source": [
    "imgbox=pytesseract.image_to_boxes(img)\n",
    "#Parameters to find the Dimention of the Images\n",
    "imgH, imgW,_ = img.shape\n",
    "\n",
    "#Iterative Process for Create boxes in the Image\n",
    "for boxes in imgbox.splitlines():\n",
    "     boxes = boxes.split(' ')\n",
    "     x,y,w, h = int(boxes[1]),int(boxes[2]),int(boxes[3]),int(boxes[4])\n",
    "     cv2.rectangle(img, (x,imgH-y) , (w,imgH-h), (0,0,255),3)\n",
    "plt.imshow(img) "
   ]
  },
  {
   "attachments": {},
   "cell_type": "markdown",
   "id": "762e6a3b",
   "metadata": {},
   "source": [
    "\n",
    "#### create a python model for extract transaction information from a bank sms among others\n",
    "\n",
    "- First, you will need to obtain a dataset of bank SMS messages that contain transaction information. You can either create this dataset yourself by manually collecting and annotating SMS messages, or you can try to find a pre-existing dataset online.\n",
    "\n",
    "- Next, you will need to preprocess the dataset by cleaning and normalizing the SMS messages. This may involve removing special characters, lowercasing all the text, and splitting the messages into individual words.\n",
    "\n",
    "- Once you have a cleaned and normalized dataset, you can start building your model. One approach you could take is to use a sequence labeling model, such as a Conditional Random Field (CRF), to identify and classify the various pieces of transaction information within the SMS messages.\n",
    "\n",
    "- To train your model, you will need to split your dataset into a training set and a test set. You can then use the training set to fit your model and the test set to evaluate its performance.\n",
    "\n",
    "- Finally, you can use your trained model to extract transaction information from new, unseen bank SMS messages. You can do this by passing the SMS messages through your model and using the predicted labels to extract the relevant information."
   ]
  },
  {
   "cell_type": "markdown",
   "id": "88de216b",
   "metadata": {},
   "source": []
  },
  {
   "cell_type": "code",
   "execution_count": null,
   "id": "df59aa76",
   "metadata": {},
   "outputs": [],
   "source": [
    "\n",
    "\n",
    "\n",
    "import nltk\n",
    "\n",
    "def tokenize(text):\n",
    "    tokens = nltk.word_tokenize(text)\n",
    "    return tokens\n",
    "\n",
    "sms_messages = [\"ATM Withdrawal Rs 30000.00 From A/C No XXXXXXXXXX400. Balance available Rs 5963.81 - Thank you for banking with BOC\",\"ATM Withdrawal Rs 4000.00 From A/C No XXXXXXXXXX400. Balance available Rs 16969.15 - Thank you for banking with BOC\",\"HNB SMS ALERT: PURCHASE, Debit account:0717***4696,Location:MY CHEMIST (PVT) LTD, LK,Amount(Approx.):1399.73 LKR,Av.Bal:101534.94 LKR,Date:28.12.21,Time:13:21, Hot Line:0112462462\"]\n",
    "\n",
    "sms_tokens = [tokenize(sms) for sms in sms_messages]\n",
    "\n",
    "print(sms_tokens)"
   ]
  }
 ],
 "metadata": {
  "kernelspec": {
   "display_name": "Python 3",
   "language": "python",
   "name": "python3"
  },
  "language_info": {
   "codemirror_mode": {
    "name": "ipython",
    "version": 3
   },
   "file_extension": ".py",
   "mimetype": "text/x-python",
   "name": "python",
   "nbconvert_exporter": "python",
   "pygments_lexer": "ipython3",
   "version": "3.10.8"
  },
  "vscode": {
   "interpreter": {
    "hash": "27f6fea6f47ae512550f0b8facdbd035a93e1dd89633f7bf2dd00a2502c71d0d"
   }
  }
 },
 "nbformat": 4,
 "nbformat_minor": 5
}
