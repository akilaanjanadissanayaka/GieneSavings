{
 "cells": [
  {
   "cell_type": "code",
   "execution_count": 32,
   "metadata": {
    "collapsed": true,
    "ExecuteTime": {
     "end_time": "2023-05-05T22:18:22.618762300Z",
     "start_time": "2023-05-05T22:17:31.354015300Z"
    }
   },
   "outputs": [
    {
     "name": "stdout",
     "output_type": "stream",
     "text": [
      "Accuracy: 0.9477486559139785\n"
     ]
    }
   ],
   "source": [
    "import pickle\n",
    "import pandas as pd\n",
    "from sklearn.model_selection import train_test_split\n",
    "from sklearn.feature_extraction.text import TfidfVectorizer\n",
    "from sklearn.svm import SVC\n",
    "\n",
    "# Load the labeled dataset\n",
    "data = pd.read_csv('ExpenseData.csv')\n",
    "\n",
    "# Split the dataset into training and testing sets\n",
    "X_train, X_test, y_train, y_test = train_test_split(\n",
    "    data['Item'], data['Category'], test_size=0.2, random_state=42)\n",
    "\n",
    "# Convert the item descriptions to numerical features using TF-IDF\n",
    "vectorizer = TfidfVectorizer()\n",
    "X_train = vectorizer.fit_transform(X_train)\n",
    "X_test = vectorizer.transform(X_test)\n",
    "\n",
    "\n",
    "with open('./vec.pkl', 'wb') as file:\n",
    "    pickle.dump(vectorizer, file)\n",
    "\n",
    "\n",
    "# Train an SVM classifier\n",
    "clf = SVC(kernel='linear', C=1.0)\n",
    "clf.fit(X_train, y_train)\n",
    "with open('./model.pkl', 'wb') as file2:\n",
    "    pickle.dump(clf, file2)\n",
    "\n",
    "file.close()\n",
    "file2.close()\n",
    "# Evaluate the classifier on the test set\n",
    "accuracy = clf.score(X_test, y_test)\n",
    "print(\"Accuracy:\", accuracy)\n",
    "\n",
    "# Use the classifier to predict the category of new items\n"
   ]
  },
  {
   "cell_type": "code",
   "execution_count": 42,
   "outputs": [
    {
     "name": "stdout",
     "output_type": "stream",
     "text": [
      "Predictions: ['Medical' 'Food' 'Medical']\n"
     ]
    }
   ],
   "source": [
    "\n",
    "with open('./model.pkl', 'rb') as file3:\n",
    "    model = pickle.load(file3)\n",
    "with open('./vec.pkl', 'rb') as file4:\n",
    "    vec = pickle.load(file4)\n",
    "\n",
    "new_items = [\"Aspirin tablets\", \"Baked beans\", \"English dictionary\"]\n",
    "X_new = vec.transform(new_items)\n",
    "predictions = model.predict(X_new)\n",
    "print(\"Predictions:\", predictions)"
   ],
   "metadata": {
    "collapsed": false,
    "ExecuteTime": {
     "end_time": "2023-05-05T22:19:47.122483100Z",
     "start_time": "2023-05-05T22:19:47.087709400Z"
    }
   }
  }
 ],
 "metadata": {
  "kernelspec": {
   "display_name": "Python 3",
   "language": "python",
   "name": "python3"
  },
  "language_info": {
   "codemirror_mode": {
    "name": "ipython",
    "version": 2
   },
   "file_extension": ".py",
   "mimetype": "text/x-python",
   "name": "python",
   "nbconvert_exporter": "python",
   "pygments_lexer": "ipython2",
   "version": "2.7.6"
  }
 },
 "nbformat": 4,
 "nbformat_minor": 0
}
