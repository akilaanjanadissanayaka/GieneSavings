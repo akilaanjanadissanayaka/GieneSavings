{
 "cells": [
  {
   "cell_type": "code",
   "execution_count": 16,
   "id": "initial_id",
   "metadata": {
    "collapsed": true,
    "ExecuteTime": {
     "end_time": "2023-10-31T17:12:06.705427800Z",
     "start_time": "2023-10-31T17:12:06.320902300Z"
    }
   },
   "outputs": [],
   "source": [
    "import cv2\n",
    "import numpy as np\n",
    "import pytesseract\n",
    "import re\n",
    "import os\n",
    "pytesseract.pytesseract.tesseract_cmd = r'C:\\Program Files\\Tesseract-OCR\\tesseract.exe'\n"
   ]
  },
  {
   "cell_type": "code",
   "execution_count": 17,
   "outputs": [],
   "source": [
    "# OpenCv function to get grayscale image\n",
    "def get_grayscale(image):                    \n",
    "    return cv2.cvtColor(image, cv2.COLOR_BGR2GRAY)  #This Function in OpenCV2 Provides to get GrayScale \n",
    "\n",
    "# noise removal in Given Image\n",
    "def remove_noise(image):\n",
    "    return cv2.medianBlur(image,5) #Removing Noice in the Picture is Way more Important \n",
    " \n",
    "#thresholding\n",
    "def thresholding(image):\n",
    "    return cv2.threshold(image, 0, 255, cv2.THRESH_BINARY + cv2.THRESH_OTSU)[1]\n",
    "\n",
    "#dilation\n",
    "def dilate(image):\n",
    "    kernel = np.ones((5,5),np.uint8)\n",
    "    return cv2.dilate(image, kernel, iterations = 1)\n",
    "    \n",
    "#erosion\n",
    "def erode(image):\n",
    "    kernel = np.ones((5,5),np.uint8)\n",
    "    return cv2.erode(image, kernel, iterations = 1)\n",
    "\n",
    "#opening - erosion followed by dilation\n",
    "def opening(image):\n",
    "    kernel = np.ones((5,5),np.uint8)\n",
    "    return cv2.morphologyEx(image, cv2.MORPH_OPEN, kernel)\n",
    "\n",
    "#canny edge detection\n",
    "def canny(image):\n",
    "    return cv2.Canny(image, 100, 200)\n",
    "\n",
    "#skew correction\n",
    "def deskew(image):\n",
    "    coords = np.column_stack(np.where(image > 0))\n",
    "    angle = cv2.minAreaRect(coords)[-1]\n",
    "    if angle < -45:\n",
    "        angle = -(90 + angle)\n",
    "    else:\n",
    "        angle = -angle\n",
    "    (h, w) = image.shape[:2]\n",
    "    center = (w // 2, h // 2)\n",
    "    M = cv2.getRotationMatrix2D(center, angle, 1.0)\n",
    "    rotation = cv2.warpAffine(image, M, (w, h), flags=cv2.INTER_CUBIC, borderMode=cv2.BORDER_REPLICATE)\n",
    "    return rotation\n",
    "\n",
    "#template matching\n",
    "#def match_template(image, template):\n",
    "  #return cv2.matchTemplate(image, template, cv2.TM_CCOEFF_NORMED) "
   ],
   "metadata": {
    "collapsed": false,
    "ExecuteTime": {
     "end_time": "2023-10-31T17:12:06.710435100Z",
     "start_time": "2023-10-31T17:12:06.368481Z"
    }
   },
   "id": "9bb80f07645540f"
  },
  {
   "cell_type": "code",
   "execution_count": 18,
   "outputs": [],
   "source": [
    "\n",
    "def extract_text_from_image(image_path,filename):\n",
    "    image = cv2.imread(image_path)\n",
    "    # convert to grayscale\n",
    "    # gray = cv2.cvtColor(image, cv2.COLOR_BGR2GRAY)\n",
    "    # # gray = cv2.resize(gray, None, fx=.5, fy=.5)\n",
    "    \n",
    "    # # apply Gaussian blurring to smooth out the image\n",
    "    # # thresh = cv2.GaussianBlur(gray, (7,7), 0)\n",
    "    # thresh = cv2.medianBlur(gray,9)\n",
    "\n",
    "    # # apply Otsu's thresholding to detect text regions\n",
    "    # # thresh = cv2.adaptiveThreshold(blur, 255, cv2.ADAPTIVE_THRESH_GAUSSIAN_C, cv2.THRESH_BINARY, 5, 11)\n",
    "    # # thresh = cv2.threshold(blur, 0, 255, cv2.THRESH_BINARY + cv2.THRESH_OTSU)[1]\n",
    "\n",
    "    # # apply dilation and erosion to remove noise\n",
    "    # kernel = np.ones((2,2), np.uint8)\n",
    "    # # kernel1 = np.ones((2,2), np.uint8)\n",
    "    # thresh = cv2.dilate(thresh, kernel, iterations=1)\n",
    "    # thresh = cv2.erode(thresh, kernel, iterations=1)\n",
    "\n",
    "    gray = get_grayscale(image) #Converting Image to a GrayScale Image\n",
    "    # thresh = thresholding(gray) #Binary Thresholding Apply for the GrayScale Image\n",
    "    b=remove_noise(gray)\n",
    "    # openin = opening(b)\n",
    "    # cannyimg = canny(openin) #Canny Filtering used for the GrayScale Image\n",
    "\n",
    "    finali = np.hstack((gray,b)) #stacking images side-by-side\n",
    "    cv2.imwrite(\"./generated/\"+filename,finali)\n",
    "\n",
    "    # set tesseract OCR to recognize handwritten text\n",
    "    custom_oem_psm_config = r'-l eng+sin --psm 6'\n",
    "\n",
    "    # run tesseract OCR on the image\n",
    "    text = pytesseract.image_to_string(b,config=custom_oem_psm_config)\n",
    "    # print(text)\n",
    "    return text\n",
    "\n"
   ],
   "metadata": {
    "collapsed": false,
    "ExecuteTime": {
     "end_time": "2023-10-31T17:12:06.710435100Z",
     "start_time": "2023-10-31T17:12:06.427277700Z"
    }
   },
   "id": "f0b72b82afbdca8a"
  },
  {
   "cell_type": "code",
   "execution_count": 19,
   "outputs": [],
   "source": [
    "import re\n",
    "\n",
    "def categorize_lines_old_version1(text):\n",
    "    # Convert the text to uppercase\n",
    "    text = text.upper()\n",
    "    # Regular expression pattern to detect the first line\n",
    "    # pattern = r'\\b(?:RS|PRICE|ITEM|QTY|AMOUNT|DISCOUNT|PRODUCT|DESCRIPTION)\\b.*$'\n",
    "    pattern = r'.*?\\b(?:RS|PRICE|ITEM|QTY|AMOUNT|DISCOUNT|PRODUCT|DESCRIPTION)\\b.*$'\n",
    "    # Find the first line matching the specified pattern\n",
    "    first_line_match = re.search(pattern, text, re.IGNORECASE | re.MULTILINE)\n",
    "    print(\"first_line_match \",first_line_match )\n",
    "    if first_line_match:\n",
    "        lines = text.split('\\n')\n",
    "        index = lines.index(first_line_match.group().strip())  # Get the index of the detected line\n",
    "        print(\"index\",index)\n",
    "        lines_after_detected = lines[index+1:index+3]  # Get the two lines immediately after the detected line\n",
    "        first_line = lines_after_detected[0].strip()\n",
    "        # print(\"first_line\",first_line)\n",
    "        if re.match(r'^[0-9A-Z/.,\\'\\s;:-][A-Z/.,\\'\\s;:-]+$', first_line) :\n",
    "            return \"Category One\"\n",
    "        else:\n",
    "            return \"Category Two\"\n",
    "    else:\n",
    "        return \"No match found.\""
   ],
   "metadata": {
    "collapsed": false,
    "ExecuteTime": {
     "end_time": "2023-10-31T17:12:06.715443400Z",
     "start_time": "2023-10-31T17:12:06.467769700Z"
    }
   },
   "id": "119941fb638a60f5"
  },
  {
   "cell_type": "code",
   "execution_count": 20,
   "outputs": [],
   "source": [
    "def categorize_lines(text):\n",
    "    # Convert the text to uppercase\n",
    "    text = text.upper()\n",
    "    # Regular expression pattern to match words containing \"ML\" or \"KG\"\n",
    "    # pattern_for_Density = r'\\b\\w+(?:ML|KG)\\b'\n",
    "    # Remove words containing \"ML\" or \"KG\"\n",
    "    # text = re.sub(pattern_for_Density, '', text)\n",
    "    # Regular expression pattern to detect the first line\n",
    "    pattern = r'.*?\\b(?:RS|PRICE|ITEM|QTY|AMOUNT|DISCOUNT|PRODUCT|DESCRIPTION)\\b.*?$' \n",
    "    \n",
    "    # Find all lines matching the specified pattern\n",
    "    matches = re.findall(pattern, text, re.IGNORECASE | re.MULTILINE)\n",
    "    \n",
    "    # Check if the text matches the pattern\n",
    "    if matches:\n",
    "        \n",
    "        # Store indices of the first two matches\n",
    "        indices = []\n",
    "        for match in matches[:2]:\n",
    "            lines = text.split('\\n')\n",
    "            index = lines.index(match.strip())\n",
    "            indices.append(index)\n",
    "        \n",
    "        if(len(matches)>1):\n",
    "            # print(\"Indices of the first two matching lines:\", indices[0],indices[1])\n",
    "            if ((indices[0]+1) == indices[1]):\n",
    "                index=indices[1]\n",
    "            else:\n",
    "                index=indices[0]\n",
    "        else:\n",
    "            index=indices[0]     \n",
    "        \n",
    "        lines = text.split('\\n')\n",
    "        lines_after_detected = lines[index+1:index+3]  # Get the two lines immediately after the detected line\n",
    "        # print(\"lines_after_detected\",lines_after_detected)\n",
    "        \n",
    "        # Check if the first line of the lines_after_detected fits Category One criteria\n",
    "        first_line = lines_after_detected[0].strip()\n",
    "        \n",
    "        # Regular expression pattern to match the first word if it starts with a symbol\n",
    "        pattern_for_first_word = r'^[^\\w]+'\n",
    "        # Remove the first word if it starts with a symbol\n",
    "        first_line = re.sub(pattern_for_first_word, '', first_line).strip()\n",
    "        first_line = first_line.replace(\"0\", \"O\")\n",
    "        # Regular expression pattern to match specific symbols (including ¢)\n",
    "        pattern_for_special_symbole = r'[¢]'\n",
    "        # Remove specific symbols from the text\n",
    "        first_line = re.sub(pattern_for_special_symbole, '', first_line)\n",
    "        # print(\"first_line\",first_line)\n",
    "        if re.match(r'^[0-9A-Z/.,\\'\\s;:-]{6}[A-Z/.,\\'\\s;:&()-]+$', first_line) :\n",
    "            return 1\n",
    "        else:\n",
    "            return 2\n",
    "    else:\n",
    "        return \"No match found.\""
   ],
   "metadata": {
    "collapsed": false,
    "ExecuteTime": {
     "end_time": "2023-10-31T17:12:06.725522100Z",
     "start_time": "2023-10-31T17:12:06.508293Z"
    }
   },
   "id": "6bb1526288cc630b"
  },
  {
   "cell_type": "code",
   "execution_count": 21,
   "outputs": [],
   "source": [
    "folder = \"./bills/\"\n",
    "\n",
    "# 20221022_Food.jpg\n",
    "# 20220918_Food.jpg\n",
    "# 20221031_Grocery.jpg\n",
    "# 20221209_Food_2.jpg\n",
    "\n",
    "# 20220821_Food.jpg\n",
    "# 20221030_Food.jpg\n",
    "# 20221110_Grocery.jpg - dont show - to tae idea\n",
    "filename='20221110_Grocery.jpg'\n",
    "extext = extract_text_from_image(folder+filename,filename)\n",
    "# print(extext)\n",
    "\n",
    "\n",
    "# category = categorize_lines(extext)\n",
    "# print(\"Category:\", category)\n",
    "\n",
    "# find_range(extext)"
   ],
   "metadata": {
    "collapsed": false,
    "ExecuteTime": {
     "end_time": "2023-10-31T17:12:12.455458600Z",
     "start_time": "2023-10-31T17:12:06.550932200Z"
    }
   },
   "id": "23409b5c2ae5d6c9"
  },
  {
   "cell_type": "code",
   "execution_count": 22,
   "outputs": [],
   "source": [
    "def find_range(text):\n",
    "    Top_pattern = r'.*?\\b(?:RS|PRICE|ITEM|QTY|AMOUNT|DISCOUNT|PRODUCT|DESCRIPTION)\\b.*?$' \n",
    "    \n",
    "    # List of words to check for\n",
    "    words_to_check = [\"NET TOTAL\", \"GRAND TOTAL\", \"TOTAL\", \"NET AMOUNT\",\"CASH\",\"GROSS AMOUNT\"]\n",
    "    # Regular expression pattern to match lines containing specified words\n",
    "    pattern_for_bottom = r'\\b(?:' + '|'.join(re.escape(word) for word in words_to_check) + r')\\b'\n",
    "    \n",
    "    # Convert the text to uppercase\n",
    "    text = text.upper()\n",
    "    lines = text.split('\\n')\n",
    "    Bottom_index=0\n",
    "    Top_index=0\n",
    "    top_matches = re.findall(Top_pattern, text, re.IGNORECASE | re.MULTILINE)\n",
    "    \n",
    "        \n",
    "    # Check if the text matches the pattern\n",
    "    \n",
    "    if top_matches:\n",
    "        top_indices = []   \n",
    "        # Store indices of the first two matches\n",
    "        \n",
    "        for match in top_matches[:2]:\n",
    "            lines = text.split('\\n')\n",
    "            index = lines.index(match.strip())\n",
    "            top_indices.append(index)\n",
    "            \n",
    "           \n",
    "        if(len(top_matches)>1):\n",
    "            # print(\"Indices of the first two matching lines:\", indices[0],indices[1])\n",
    "            if ((top_indices[0]+1) == top_indices[1]):\n",
    "                index=top_indices[1]\n",
    "            else:\n",
    "                index=top_indices[0]\n",
    "        else:\n",
    "            index=top_indices[0]   \n",
    "        Top_index=index\n",
    "        \n",
    "    \n",
    "    \n",
    "    \n",
    "    # Split the text into lines and find the indexes of lines matching the pattern\n",
    "    lines = text.splitlines()\n",
    "    matching_line_indexes = [index for index, line in enumerate(lines) if re.search(pattern_for_bottom, line)]\n",
    "    Bottom_index=matching_line_indexes[0]\n",
    "    \n",
    "    \n",
    "    print(\"top index \",Top_index)\n",
    "    print(lines[Top_index])\n",
    "    print(\"Bottom_index \",Bottom_index)\n",
    "    print(lines[Bottom_index])\n",
    "    return {\"top\": Top_index, \"bottom\": Bottom_index}\n",
    "    \n"
   ],
   "metadata": {
    "collapsed": false,
    "ExecuteTime": {
     "end_time": "2023-10-31T17:12:12.505488400Z",
     "start_time": "2023-10-31T17:12:12.455458600Z"
    }
   },
   "id": "a2227c3fa3e1a094"
  },
  {
   "cell_type": "code",
   "execution_count": 23,
   "outputs": [],
   "source": [
    "def extract_amount(top,bottom,type,text):\n",
    "    text = text.upper()\n",
    "    # Define a translation table to replace specified characters with spaces\n",
    "    translation_table = str.maketrans({\"‘\":\" \",\"(\":\" \",\")\":\" \",\"'\": ' ', '\"': ' ', '`': ' ', '~': ' ',\"_\":\" \",\"-\":\" \",\":\":\" \", '|': ' ', '\\\\': ' ', '‘': ' ', '“': ' ', '–': ' '})  \n",
    "    \n",
    "    # Use translate() method to replace characters with spaces\n",
    "    text = text.translate(translation_table)\n",
    "    lines = text.split('\\n')\n",
    "    content=[]\n",
    "    for line in lines[(top+1):bottom]:\n",
    "        content.append(line)\n",
    "        \n",
    "    print(content)\n",
    "    \n",
    "    output_dict = {}\n",
    "\n",
    "    i = 0\n",
    "    if type==1:\n",
    "        while i < ((len(content)//2)*2):\n",
    "            # Extract key from the first line (remove leading spaces)\n",
    "            key = content[i].lstrip()\n",
    "            \n",
    "            #remove leading numbers also\n",
    "            #----------------------------#\n",
    "            #----------------------------#\n",
    "            #----------------------------#\n",
    "            #----------------------------#\n",
    "            \n",
    "            # Get value from the next line, considering it's a float (handling comma in numbers)\n",
    "            value = float(content[i + 1].replace(',', '').split()[-1])\n",
    "\n",
    "            # Add key-value pair to the dictionary\n",
    "            output_dict[key] = value\n",
    "\n",
    "            # Move to the next entry\n",
    "            i += 2\n",
    "        \n",
    "        print(output_dict)\n",
    "    else:\n",
    "        output_dict = {}\n",
    "\n",
    "        for item in content:\n",
    "            # Extract name (characters until the first number is found) and price (last float or integer in the string)\n",
    "            match = re.search(r'(.+?)(?=\\s*\\d)', item)\n",
    "            if match:\n",
    "                name = match.group(1).strip()\n",
    "                price = float(re.findall(r'\\d+\\.\\d+|\\d+', item)[-1])\n",
    "                output_dict[name] = price\n",
    "    \n",
    "        print(output_dict)\n"
   ],
   "metadata": {
    "collapsed": false,
    "ExecuteTime": {
     "end_time": "2023-10-31T17:12:12.575485Z",
     "start_time": "2023-10-31T17:12:12.500416600Z"
    }
   },
   "id": "61dda29a27c0347"
  },
  {
   "cell_type": "code",
   "execution_count": 24,
   "outputs": [
    {
     "name": "stdout",
     "output_type": "stream",
     "text": [
      "pi le\n",
      "“Wo : 10 ’ Ns\n",
      "“KOT Ref. © 33,36,37\n",
      "Served By: SMART\n",
      "d\n",
      "‘Oi-Jun-2022 were\n",
      "Bill @ 33 ee\n",
      "DESCRIPTION arr a.\n",
      "SGiro-nscs Korru — 2 2000.00\n",
      "CHIC CHEESE KOTTU L 1 1200.00\n",
      "SPRITE (400M) ‘ 480.00\n",
      "EGE 400%. : 120\n",
      "BISCUIT PUDDING 2 400.00\n",
      "CREAM CARAMAL 4 1600.00\n",
      "eee CASH 6380 00\n",
      "Total Qty : 13.00 2\n",
      "Sub Total : $800.06\n",
      "Ser. Charge : $80.00 ©\n",
      "Bill Amount: 6380.00\n",
      "Paid Amount 6380.00 :\n",
      "Bal. Amount : 0.00\n",
      "Opening hours 10 am to 12\n",
      "Open 7 days vy\n",
      "you\n",
      "we waa Tee\n",
      "\n",
      "------------------\n",
      "top index  7\n",
      "DESCRIPTION ARR A.\n",
      "Bottom_index  14\n",
      "EEE CASH 6380 00\n",
      "['SGIRO NSCS KORRU — 2 2000.00', 'CHIC CHEESE KOTTU L 1 1200.00', 'SPRITE  400M    480.00', 'EGE 400%.   120', 'BISCUIT PUDDING 2 400.00', 'CREAM CARAMAL 4 1600.00']\n",
      "{'SGIRO NSCS KORRU —': 2000.0, 'CHIC CHEESE KOTTU L': 1200.0, 'SPRITE': 480.0, 'EGE': 120.0, 'BISCUIT PUDDING': 400.0, 'CREAM CARAMAL': 1600.0}\n"
     ]
    }
   ],
   "source": [
    "folder = \"./bills/\"\n",
    "\n",
    "# 20221022_Food.jpg\n",
    "# 20220918_Food.jpg\n",
    "# 20221031_Grocery.jpg--\n",
    "# 20221209_Food_2.jpg\n",
    "\n",
    "# 20220821_Food.jpg ---\n",
    "# 20221030_Food.jpg\n",
    "# 20221110_Grocery.jpg - dont show - to tae idea\n",
    "filename='20220821_Food.jpg'\n",
    "extext = extract_text_from_image(folder+filename,filename)\n",
    "print(extext)\n",
    "print(\"------------------\")\n",
    "\n",
    "extext = extext.upper()\n",
    "\n",
    "category = categorize_lines(extext)\n",
    "# print(\"Category:\", category)\n",
    "\n",
    "range=find_range(extext)\n",
    "top_value = range[\"top\"]\n",
    "bottom_value = range[\"bottom\"]\n",
    "\n",
    "extract_amount(top_value,bottom_value,category,extext)"
   ],
   "metadata": {
    "collapsed": false,
    "ExecuteTime": {
     "end_time": "2023-10-31T17:12:13.725568400Z",
     "start_time": "2023-10-31T17:12:12.545315Z"
    }
   },
   "id": "ffc5fe111e80ab1c"
  },
  {
   "cell_type": "code",
   "execution_count": 28,
   "outputs": [
    {
     "name": "stdout",
     "output_type": "stream",
     "text": [
      "\n",
      "['  6117 J0VEES FACE WASH TEA TREE 120ML', \n",
      "'1,685.00 1.0 1,685.00', \n",
      "'3 951003 CHEESE AND ONION BREAD', \n",
      "'375.00 1.0 375.900'\n",
      "]\n",
      "{'SGIRO NSCS KORRU —': 2000.0, \n",
      "'CHIC CHEESE KOTTU L': 1200.0, \n",
      "'SPRITE': 480.0, 'EGE': 120.0, \n",
      "'BISCUIT PUDDING': 400.0, \n",
      "'CREAM CARAMAL': 1600.0}\n"
     ]
    }
   ],
   "source": [
    "x=\"\"\"\n",
    "['  6117 J0VEES FACE WASH TEA TREE 120ML', \n",
    "'1,685.00 1.0 1,685.00', \n",
    "'3 951003 CHEESE AND ONION BREAD', \n",
    "'375.00 1.0 375.900'\n",
    "]\n",
    "{'SGIRO NSCS KORRU —': 2000.0, \n",
    "'CHIC CHEESE KOTTU L': 1200.0, \n",
    "'SPRITE': 480.0, 'EGE': 120.0, \n",
    "'BISCUIT PUDDING': 400.0, \n",
    "'CREAM CARAMAL': 1600.0}\n",
    "\"\"\"\n",
    "print(x)"
   ],
   "metadata": {
    "collapsed": false,
    "ExecuteTime": {
     "end_time": "2023-10-31T17:13:04.112622100Z",
     "start_time": "2023-10-31T17:13:04.015705Z"
    }
   },
   "id": "67ee22c5a1189722"
  },
  {
   "cell_type": "code",
   "execution_count": 26,
   "outputs": [
    {
     "name": "stdout",
     "output_type": "stream",
     "text": [
      "{'N).': 227.0, 'U': 500.0, '3': 375.9, '|': 120.0, '1,': 685.0, 'Gross Amount': 60.0, 'Ne: Amount': 60.0}\n"
     ]
    }
   ],
   "source": [
    "import re\n",
    "\n",
    "input_list = [\n",
    "    'y',\n",
    "'N).227, Anagarika Dnarmapale Mw,Nupe,, Matara',\n",
    "'U70 108444  0112 303 500 / Store Code: SMMR',\n",
    "'31-10-2022 12:24:54 €:116296 NP R:2022505',\n",
    "'-n item Price Qty Amount',\n",
    "'| 6117:J0VEES FACE WASH TEA TREE 120ML',\n",
    "'1,685.00 1.0 1,685.00',\n",
    "'3 951003:CHEESE AND ONION BREAD',\n",
    "'375.00 1.0 375.900',\n",
    "'Gross Amount 2,060.00',\n",
    "'Ne: Amount 2,060.00'\n",
    "]\n",
    "\n",
    "output_dict = {}\n",
    "\n",
    "for item in input_list:\n",
    "    # Extract name (characters until the first number is found) and price (last float or integer in the string)\n",
    "    match = re.search(r'(.+?)(?=\\s*\\d)', item)\n",
    "    if match:\n",
    "        name = match.group(1).strip()\n",
    "        price = float(re.findall(r'\\d+\\.\\d+|\\d+', item)[-1])\n",
    "        output_dict[name] = price\n",
    "\n",
    "print(output_dict)\n"
   ],
   "metadata": {
    "collapsed": false,
    "ExecuteTime": {
     "end_time": "2023-10-31T17:12:13.850554Z",
     "start_time": "2023-10-31T17:12:13.755263600Z"
    }
   },
   "id": "5dc22184bc1c37fd"
  },
  {
   "cell_type": "code",
   "execution_count": 27,
   "outputs": [
    {
     "name": "stdout",
     "output_type": "stream",
     "text": [
      "['  6117 J0VEES FACE WASH TEA TREE 120ML', '1,200.00 1.0 1,685.00', '3 951003 CHEESE AND ONION BREAD', '200.0 1.0 375.900', 'aaaaaaaaaaaaa bbbbbbbbb yyyyyyyy', '200.0 1.0 365.900', 'sdgsd gfdgdf bdd']\n",
      "{'6117 J0VEES FACE WASH TEA TREE 120ML': 1685.0, '3 951003 CHEESE AND ONION BREAD': 375.9, 'aaaaaaaaaaaaa bbbbbbbbb yyyyyyyy': 365.9}\n",
      "6\n"
     ]
    }
   ],
   "source": [
    "input_list = [\n",
    "    '  6117 J0VEES FACE WASH TEA TREE 120ML',\n",
    "    '1,200.00 1.0 1,685.00',\n",
    "    '3 951003 CHEESE AND ONION BREAD',\n",
    "    '200.0 1.0 375.900',\n",
    "    'aaaaaaaaaaaaa bbbbbbbbb yyyyyyyy',\n",
    "    '200.0 1.0 365.900',\n",
    "    'sdgsd gfdgdf bdd'\n",
    "]\n",
    "print(input_list)\n",
    "output_dict = {}\n",
    "\n",
    "i = 0\n",
    "while i < ((len(input_list)//2)*2):\n",
    "    # Extract key from the first line (remove leading spaces)\n",
    "    key = input_list[i].lstrip()\n",
    "\n",
    "    # Get value from the next line, considering it's a float (handling comma in numbers)\n",
    "    value = float(input_list[i + 1].replace(',', '').split()[-1])\n",
    "\n",
    "    # Add key-value pair to the dictionary\n",
    "    output_dict[key] = value\n",
    "\n",
    "    # Move to the next entry\n",
    "    i += 2\n",
    "\n",
    "print(output_dict)\n",
    "\n",
    "i=7\n",
    "print(((len(input_list)//2)*2))"
   ],
   "metadata": {
    "collapsed": false,
    "ExecuteTime": {
     "end_time": "2023-10-31T17:12:13.850554Z",
     "start_time": "2023-10-31T17:12:13.775358600Z"
    }
   },
   "id": "e966e7fb0fb2bfa7"
  }
 ],
 "metadata": {
  "kernelspec": {
   "display_name": "Python 3",
   "language": "python",
   "name": "python3"
  },
  "language_info": {
   "codemirror_mode": {
    "name": "ipython",
    "version": 2
   },
   "file_extension": ".py",
   "mimetype": "text/x-python",
   "name": "python",
   "nbconvert_exporter": "python",
   "pygments_lexer": "ipython2",
   "version": "2.7.6"
  }
 },
 "nbformat": 4,
 "nbformat_minor": 5
}
